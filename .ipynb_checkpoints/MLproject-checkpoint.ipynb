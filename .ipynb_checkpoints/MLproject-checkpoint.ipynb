{
 "cells": [
  {
   "cell_type": "code",
   "execution_count": 3,
   "metadata": {},
   "outputs": [],
   "source": [
    "import numpy as np\n",
    "import pandas as pd\n",
    "import matplotlib.pyplot as plt\n",
    "import seaborn as sns  #data visualization library\n",
    "from sklearn.linear_model import LogisticRegression\n",
    "from sklearn.model_selection import train_test_split, KFold\n",
    "from sklearn.metrics import accuracy_score, confusion_matrix  # evaluation metrics\n",
    "from sklearn.metrics import precision_recall_fscore_support\n",
    "from sklearn.metrics import mean_squared_error\n",
    "from sklearn.preprocessing import PolynomialFeatures    # function to generate polynomial and interaction features\n",
    "from sklearn.linear_model import LinearRegression, HuberRegressor    # classes providing Linear Regression with ordinary squared error loss and Huber loss, respectively\n",
    "from sklearn.preprocessing import StandardScaler\n",
    "from sklearn.preprocessing import MinMaxScaler\n"
   ]
  },
  {
   "cell_type": "code",
   "execution_count": 52,
   "metadata": {
    "scrolled": true
   },
   "outputs": [
    {
     "data": {
      "text/html": [
       "<div>\n",
       "<style scoped>\n",
       "    .dataframe tbody tr th:only-of-type {\n",
       "        vertical-align: middle;\n",
       "    }\n",
       "\n",
       "    .dataframe tbody tr th {\n",
       "        vertical-align: top;\n",
       "    }\n",
       "\n",
       "    .dataframe thead th {\n",
       "        text-align: right;\n",
       "    }\n",
       "</style>\n",
       "<table border=\"1\" class=\"dataframe\">\n",
       "  <thead>\n",
       "    <tr style=\"text-align: right;\">\n",
       "      <th></th>\n",
       "      <th>Gender</th>\n",
       "      <th>Visit</th>\n",
       "      <th>Age</th>\n",
       "      <th>EDUC</th>\n",
       "      <th>SES</th>\n",
       "      <th>MMSE</th>\n",
       "      <th>eTIV</th>\n",
       "      <th>nWBV</th>\n",
       "      <th>ASF</th>\n",
       "      <th>Demented</th>\n",
       "    </tr>\n",
       "  </thead>\n",
       "  <tbody>\n",
       "    <tr>\n",
       "      <th>0</th>\n",
       "      <td>1</td>\n",
       "      <td>1</td>\n",
       "      <td>87</td>\n",
       "      <td>14</td>\n",
       "      <td>2.000000</td>\n",
       "      <td>27.0</td>\n",
       "      <td>1987</td>\n",
       "      <td>0.696</td>\n",
       "      <td>0.883</td>\n",
       "      <td>0</td>\n",
       "    </tr>\n",
       "    <tr>\n",
       "      <th>1</th>\n",
       "      <td>1</td>\n",
       "      <td>2</td>\n",
       "      <td>88</td>\n",
       "      <td>14</td>\n",
       "      <td>2.000000</td>\n",
       "      <td>30.0</td>\n",
       "      <td>2004</td>\n",
       "      <td>0.681</td>\n",
       "      <td>0.876</td>\n",
       "      <td>0</td>\n",
       "    </tr>\n",
       "    <tr>\n",
       "      <th>2</th>\n",
       "      <td>1</td>\n",
       "      <td>1</td>\n",
       "      <td>75</td>\n",
       "      <td>12</td>\n",
       "      <td>2.460452</td>\n",
       "      <td>23.0</td>\n",
       "      <td>1678</td>\n",
       "      <td>0.736</td>\n",
       "      <td>1.046</td>\n",
       "      <td>1</td>\n",
       "    </tr>\n",
       "    <tr>\n",
       "      <th>3</th>\n",
       "      <td>1</td>\n",
       "      <td>2</td>\n",
       "      <td>76</td>\n",
       "      <td>12</td>\n",
       "      <td>2.460452</td>\n",
       "      <td>28.0</td>\n",
       "      <td>1738</td>\n",
       "      <td>0.713</td>\n",
       "      <td>1.010</td>\n",
       "      <td>1</td>\n",
       "    </tr>\n",
       "    <tr>\n",
       "      <th>4</th>\n",
       "      <td>1</td>\n",
       "      <td>3</td>\n",
       "      <td>80</td>\n",
       "      <td>12</td>\n",
       "      <td>2.460452</td>\n",
       "      <td>22.0</td>\n",
       "      <td>1698</td>\n",
       "      <td>0.701</td>\n",
       "      <td>1.034</td>\n",
       "      <td>1</td>\n",
       "    </tr>\n",
       "  </tbody>\n",
       "</table>\n",
       "</div>"
      ],
      "text/plain": [
       "   Gender  Visit  Age  EDUC       SES  MMSE  eTIV   nWBV    ASF  Demented\n",
       "0       1      1   87    14  2.000000  27.0  1987  0.696  0.883         0\n",
       "1       1      2   88    14  2.000000  30.0  2004  0.681  0.876         0\n",
       "2       1      1   75    12  2.460452  23.0  1678  0.736  1.046         1\n",
       "3       1      2   76    12  2.460452  28.0  1738  0.713  1.010         1\n",
       "4       1      3   80    12  2.460452  22.0  1698  0.701  1.034         1"
      ]
     },
     "execution_count": 52,
     "metadata": {},
     "output_type": "execute_result"
    }
   ],
   "source": [
    "# Import data\n",
    "df = pd.read_csv('dementia_dataset.csv')\n",
    "\n",
    "# Remove columns not used in model\n",
    "df.drop(columns = ['Subject ID', 'MRI ID', 'Hand', 'MR Delay'],inplace=True)\n",
    "\n",
    "\n",
    "# Cleaning and modifying data\n",
    "df_one = pd.get_dummies(df[\"Group\"])\n",
    "df_two = pd.concat((df_one, df), axis=1).drop([\"Group\", \"Nondemented\", \"Converted\"], axis=1)\n",
    "df_three = pd.get_dummies(df_two[\"M/F\"])\n",
    "df_four = pd.concat((df_three, df_two), axis=1)\n",
    "df_four = df_four.drop(['F', 'M/F'], axis=1)\n",
    "data = df_four.rename(columns={\"M\": \"Gender\"})\n",
    "data = data[['Gender', 'Visit', 'Age', 'EDUC', 'SES',\n",
    "       'MMSE', 'eTIV', 'nWBV', 'ASF', 'Demented']]\n",
    "\n",
    "# Replacing a few missing values with dataset mean\n",
    "data['SES'] = data['SES'].fillna(np.mean(data['SES']))\n",
    "data['MMSE'] = data['MMSE'].fillna(np.mean(data['MMSE']))\n",
    "\n",
    "# Display first 5 data points\n",
    "data.head()"
   ]
  },
  {
   "cell_type": "code",
   "execution_count": 53,
   "metadata": {},
   "outputs": [],
   "source": [
    "# Initialize LogisticRegression for model and StandardScaler for scaling data\n",
    "lr = LogisticRegression()\n",
    "scaler = StandardScaler()\n",
    "\n",
    "# Features\n",
    "X = data.iloc[:,:9].to_numpy()\n",
    "\n",
    "# Label\n",
    "y = data.iloc[:,-1].to_numpy().reshape(-1)\n",
    "\n",
    "# Splitting training and validation data\n",
    "X_train, X_val, y_train, y_val = train_test_split(X, y, test_size=0.33, shuffle=True, stratify=y, random_state=0)"
   ]
  },
  {
   "cell_type": "code",
   "execution_count": 54,
   "metadata": {},
   "outputs": [
    {
     "name": "stdout",
     "output_type": "stream",
     "text": [
      "Training accuracy: 0.8433734939759037\n",
      "Validation accuracy: 0.8548387096774194\n",
      "Coefficients: [[ 0.83208617 -0.51097476 -0.7960793  -0.38045125  0.10865931 -2.66014704\n",
      "  -0.039383   -0.80090716  0.39262039]]\n"
     ]
    },
    {
     "data": {
      "text/plain": [
       "[Text(0, 0.5, 'non-demented'), Text(0, 1.5, 'demented')]"
      ]
     },
     "execution_count": 54,
     "metadata": {},
     "output_type": "execute_result"
    },
    {
     "data": {
      "image/png": "[encoded data removed]",
      "text/plain": [
       "<Figure size 432x288 with 2 Axes>"
      ]
     },
     "metadata": {
      "needs_background": "light"
     },
     "output_type": "display_data"
    }
   ],
   "source": [
    "# Scale data with StandardScaler and fit logistic regression\n",
    "\n",
    "lr.fit(scaler.fit_transform(X_train), y_train)\n",
    "y_pred_train = lr.predict(scaler.fit_transform(X_train))\n",
    "y_pred_val = lr.predict(scaler.fit_transform(X_val))\n",
    "training_acc = accuracy_score(y_train, y_pred_train)\n",
    "val_acc = accuracy_score(y_val, y_pred_val)\n",
    "print(f\"Training accuracy: {training_acc}\")\n",
    "print(f\"Validation accuracy: {val_acc}\")\n",
    "print(f\"Coefficients: {lr.coef_}\")\n",
    "\n",
    "conf_mat = confusion_matrix(y_val, y_pred_val) # NOTE: please pay attention to the order of arguments, the order matters.\n",
    "precision_recall_fscore_support(y_val, y_pred_val, average=None)\n",
    "\n",
    "ax = plt.subplot()\n",
    "\n",
    "sns.heatmap(conf_mat, annot=True, fmt='g', ax=ax)\n",
    "\n",
    "ax.set_xlabel('Predicted labels',fontsize=15)\n",
    "ax.set_ylabel('True labels',fontsize=15)\n",
    "ax.set_title('Confusion Matrix',fontsize=15)\n",
    "ax.xaxis.set_ticklabels(['non-demented', 'demented'],fontsize=12)\n",
    "ax.yaxis.set_ticklabels(['non-demented', 'demented'],fontsize=12)"
   ]
  },
  {
   "cell_type": "code",
   "execution_count": 7,
   "metadata": {},
   "outputs": [],
   "source": [
    "# Same process but with sklearn's Pipeline\n",
    "\n",
    "# from sklearn.pipeline import Pipeline\n",
    "# pipe = Pipeline([('scaler', StandardScaler()), ('lr', LogisticRegression())])\n",
    "# pipe.fit(X_train, y_train)\n",
    "# train_acc_pip = pipe.score(X_train, y_train)\n",
    "# val_acc_pip = pipe.score(X_val, y_val)\n",
    "\n",
    "# Print training and validation errors\n",
    "# print(f\"Training error (pipeline): {train_acc_pip}\")\n",
    "# print(f\"Validation error (pipeline): {val_acc_pip}\")"
   ]
  },
  {
   "cell_type": "code",
   "execution_count": 61,
   "metadata": {},
   "outputs": [
    {
     "data": {
      "image/png": "[encoded data removed]",
      "text/plain": [
       "<Figure size 1080x864 with 10 Axes>"
      ]
     },
     "metadata": {
      "needs_background": "light"
     },
     "output_type": "display_data"
    }
   ],
   "source": [
    "cv = KFold(n_splits=5, shuffle=True, random_state=42)\n",
    "\n",
    "training_accuracy = [] # store the training errors\n",
    "validation_accuracy = [] # store the validation errors\n",
    "plt.figure(figsize=(15, 12))\n",
    "plt.subplots_adjust(hspace=0.5)\n",
    "# Iterate through the indices of train and validation (iteration through each split of 10)\n",
    "for i, (train_index, val_index) in enumerate(cv.split(y)):\n",
    "    \n",
    "    ax = plt.subplot(2,3,i+1)\n",
    "\n",
    "    X_train_cv, X_val_cv = X[train_index], X[val_index]\n",
    "    y_train_cv, y_val_cv = y[train_index], y[val_index]\n",
    "    \n",
    "    lr.fit(scaler.fit_transform(X_train_cv), y_train_cv)\n",
    "    y_pred_train_cv = lr.predict(scaler.fit_transform(X_train_cv))\n",
    "    y_pred_val_cv = lr.predict(scaler.fit_transform(X_val_cv))\n",
    "    acc_train_cv = accuracy_score(y_train_cv, y_pred_train_cv)\n",
    "    acc_val_cv = accuracy_score(y_val_cv, y_pred_val_cv)\n",
    "    \n",
    "    \n",
    "    conf_mat = confusion_matrix(y_val_cv, y_pred_val_cv) \n",
    "\n",
    "\n",
    "    sns.heatmap(conf_mat, annot=True, fmt='g', ax=ax)\n",
    "    ax.set_xlabel('Predicted labels',fontsize=15)\n",
    "    ax.set_ylabel('True labels',fontsize=15)\n",
    "    ax.xaxis.set_ticklabels(['non-demented', 'demented'],fontsize=12)\n",
    "    ax.yaxis.set_ticklabels(['non-demented', 'demented'],fontsize=12)    \n",
    "    \n",
    "    # pipe.fit(X_train, y_train)\n",
    "    \n",
    "    # err_train_pip = pipe.score(X_train, y_train)\n",
    "    # err_val_pip = pipe.score(X_val, y_val)\n",
    "              \n",
    "    training_accuracy.append(acc_train_cv)\n",
    "    validation_accuracy.append(acc_val_cv)\n",
    "    \n",
    "plt.tight_layout()\n"
   ]
  },
  {
   "cell_type": "code",
   "execution_count": 56,
   "metadata": {},
   "outputs": [
    {
     "data": {
      "text/plain": [
       "[0.88,\n",
       " 0.7733333333333333,\n",
       " 0.9066666666666666,\n",
       " 0.7702702702702703,\n",
       " 0.9054054054054054]"
      ]
     },
     "execution_count": 56,
     "metadata": {},
     "output_type": "execute_result"
    }
   ],
   "source": [
    "validation_accuracy"
   ]
  },
  {
   "cell_type": "code",
   "execution_count": 57,
   "metadata": {},
   "outputs": [
    {
     "data": {
      "text/plain": [
       "[0.8456375838926175,\n",
       " 0.889261744966443,\n",
       " 0.8456375838926175,\n",
       " 0.862876254180602,\n",
       " 0.8461538461538461]"
      ]
     },
     "execution_count": 57,
     "metadata": {},
     "output_type": "execute_result"
    }
   ],
   "source": [
    "training_accuracy"
   ]
  },
  {
   "cell_type": "code",
   "execution_count": 11,
   "metadata": {},
   "outputs": [
    {
     "ename": "NameError",
     "evalue": "name 'validation_errors' is not defined",
     "output_type": "error",
     "traceback": [
      "\u001b[0;31m---------------------------------------------------------------------------\u001b[0m",
      "\u001b[0;31mNameError\u001b[0m                                 Traceback (most recent call last)",
      "\u001b[0;32m<ipython-input-11-f1df7ff65399>\u001b[0m in \u001b[0;36m<module>\u001b[0;34m\u001b[0m\n\u001b[1;32m      1\u001b[0m \u001b[0;31m# Plot the distribution of the validation errors\u001b[0m\u001b[0;34m\u001b[0m\u001b[0;34m\u001b[0m\u001b[0;34m\u001b[0m\u001b[0m\n\u001b[0;32m----> 2\u001b[0;31m \u001b[0mplt\u001b[0m\u001b[0;34m.\u001b[0m\u001b[0mhist\u001b[0m\u001b[0;34m(\u001b[0m\u001b[0mvalidation_errors\u001b[0m\u001b[0;34m)\u001b[0m\u001b[0;34m\u001b[0m\u001b[0;34m\u001b[0m\u001b[0m\n\u001b[0m\u001b[1;32m      3\u001b[0m \u001b[0mplt\u001b[0m\u001b[0;34m.\u001b[0m\u001b[0mtitle\u001b[0m\u001b[0;34m(\u001b[0m\u001b[0;34m\"Validation errors distribution\"\u001b[0m\u001b[0;34m)\u001b[0m\u001b[0;34m\u001b[0m\u001b[0;34m\u001b[0m\u001b[0m\n\u001b[1;32m      4\u001b[0m \u001b[0mplt\u001b[0m\u001b[0;34m.\u001b[0m\u001b[0mshow\u001b[0m\u001b[0;34m(\u001b[0m\u001b[0;34m)\u001b[0m\u001b[0;34m\u001b[0m\u001b[0;34m\u001b[0m\u001b[0m\n",
      "\u001b[0;31mNameError\u001b[0m: name 'validation_errors' is not defined"
     ]
    }
   ],
   "source": [
    "# Plot the distribution of the validation errors\n",
    "plt.hist(validation_accuracy)\n",
    "plt.title(\"Validation errors distribution\")\n",
    "plt.show()"
   ]
  },
  {
   "cell_type": "code",
   "execution_count": null,
   "metadata": {},
   "outputs": [],
   "source": [
    "# test"
   ]
  }
 ],
 "metadata": {
  "kernelspec": {
   "display_name": "Python 3",
   "language": "python",
   "name": "python3"
  },
  "language_info": {
   "codemirror_mode": {
    "name": "ipython",
    "version": 3
   },
   "file_extension": ".py",
   "mimetype": "text/x-python",
   "name": "python",
   "nbconvert_exporter": "python",
   "pygments_lexer": "ipython3",
   "version": "3.8.5"
  },
  "varInspector": {
   "cols": {
    "lenName": 16,
    "lenType": 16,
    "lenVar": 40
   },
   "kernels_config": {
    "python": {
     "delete_cmd_postfix": "",
     "delete_cmd_prefix": "del ",
     "library": "var_list.py",
     "varRefreshCmd": "print(var_dic_list())"
    },
    "r": {
     "delete_cmd_postfix": ") ",
     "delete_cmd_prefix": "rm(",
     "library": "var_list.r",
     "varRefreshCmd": "cat(var_dic_list()) "
    }
   },
   "types_to_exclude": [
    "module",
    "function",
    "builtin_function_or_method",
    "instance",
    "_Feature"
   ],
   "window_display": false
  }
 },
 "nbformat": 4,
 "nbformat_minor": 4
}
