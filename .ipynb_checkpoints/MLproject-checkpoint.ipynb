{
 "cells": [
  {
   "cell_type": "code",
   "execution_count": 2,
   "metadata": {},
   "outputs": [],
   "source": [
    "import numpy as np\n",
    "import pandas as pd\n",
    "import matplotlib.pyplot as plt\n",
    "import seaborn as sns  #data visualization library\n",
    "from sklearn.linear_model import LogisticRegression\n",
    "from sklearn.metrics import accuracy_score, confusion_matrix  # evaluation metrics\n",
    "from sklearn.metrics import mean_squared_error\n",
    "from sklearn.preprocessing import PolynomialFeatures    # function to generate polynomial and interaction features\n",
    "from sklearn.linear_model import LinearRegression, HuberRegressor    # classes providing Linear Regression with ordinary squared error loss and Huber loss, respectively\n",
    "from sklearn.preprocessing import StandardScaler\n",
    "from sklearn.preprocessing import MinMaxScaler\n"
   ]
  },
  {
   "cell_type": "code",
   "execution_count": 22,
   "metadata": {
    "scrolled": true
   },
   "outputs": [
    {
     "data": {
      "text/html": [
       "<div>\n",
       "<style scoped>\n",
       "    .dataframe tbody tr th:only-of-type {\n",
       "        vertical-align: middle;\n",
       "    }\n",
       "\n",
       "    .dataframe tbody tr th {\n",
       "        vertical-align: top;\n",
       "    }\n",
       "\n",
       "    .dataframe thead th {\n",
       "        text-align: right;\n",
       "    }\n",
       "</style>\n",
       "<table border=\"1\" class=\"dataframe\">\n",
       "  <thead>\n",
       "    <tr style=\"text-align: right;\">\n",
       "      <th></th>\n",
       "      <th>Gender</th>\n",
       "      <th>Visit</th>\n",
       "      <th>Age</th>\n",
       "      <th>EDUC</th>\n",
       "      <th>SES</th>\n",
       "      <th>CDR</th>\n",
       "      <th>eTIV</th>\n",
       "      <th>nWBV</th>\n",
       "      <th>ASF</th>\n",
       "      <th>Demented</th>\n",
       "    </tr>\n",
       "  </thead>\n",
       "  <tbody>\n",
       "    <tr>\n",
       "      <th>0</th>\n",
       "      <td>1</td>\n",
       "      <td>1</td>\n",
       "      <td>87</td>\n",
       "      <td>14</td>\n",
       "      <td>2.000000</td>\n",
       "      <td>0.0</td>\n",
       "      <td>1987</td>\n",
       "      <td>0.696</td>\n",
       "      <td>0.883</td>\n",
       "      <td>0</td>\n",
       "    </tr>\n",
       "    <tr>\n",
       "      <th>1</th>\n",
       "      <td>1</td>\n",
       "      <td>2</td>\n",
       "      <td>88</td>\n",
       "      <td>14</td>\n",
       "      <td>2.000000</td>\n",
       "      <td>0.0</td>\n",
       "      <td>2004</td>\n",
       "      <td>0.681</td>\n",
       "      <td>0.876</td>\n",
       "      <td>0</td>\n",
       "    </tr>\n",
       "    <tr>\n",
       "      <th>2</th>\n",
       "      <td>1</td>\n",
       "      <td>1</td>\n",
       "      <td>75</td>\n",
       "      <td>12</td>\n",
       "      <td>2.460452</td>\n",
       "      <td>0.5</td>\n",
       "      <td>1678</td>\n",
       "      <td>0.736</td>\n",
       "      <td>1.046</td>\n",
       "      <td>1</td>\n",
       "    </tr>\n",
       "    <tr>\n",
       "      <th>3</th>\n",
       "      <td>1</td>\n",
       "      <td>2</td>\n",
       "      <td>76</td>\n",
       "      <td>12</td>\n",
       "      <td>2.460452</td>\n",
       "      <td>0.5</td>\n",
       "      <td>1738</td>\n",
       "      <td>0.713</td>\n",
       "      <td>1.010</td>\n",
       "      <td>1</td>\n",
       "    </tr>\n",
       "    <tr>\n",
       "      <th>4</th>\n",
       "      <td>1</td>\n",
       "      <td>3</td>\n",
       "      <td>80</td>\n",
       "      <td>12</td>\n",
       "      <td>2.460452</td>\n",
       "      <td>0.5</td>\n",
       "      <td>1698</td>\n",
       "      <td>0.701</td>\n",
       "      <td>1.034</td>\n",
       "      <td>1</td>\n",
       "    </tr>\n",
       "  </tbody>\n",
       "</table>\n",
       "</div>"
      ],
      "text/plain": [
       "   Gender  Visit  Age  EDUC       SES  CDR  eTIV   nWBV    ASF  Demented\n",
       "0       1      1   87    14  2.000000  0.0  1987  0.696  0.883         0\n",
       "1       1      2   88    14  2.000000  0.0  2004  0.681  0.876         0\n",
       "2       1      1   75    12  2.460452  0.5  1678  0.736  1.046         1\n",
       "3       1      2   76    12  2.460452  0.5  1738  0.713  1.010         1\n",
       "4       1      3   80    12  2.460452  0.5  1698  0.701  1.034         1"
      ]
     },
     "execution_count": 22,
     "metadata": {},
     "output_type": "execute_result"
    }
   ],
   "source": [
    "df = pd.read_csv('dementia_dataset.csv')\n",
    "\n",
    "# Remove unnecessary columns\n",
    "df.drop(columns = ['Subject ID', 'MRI ID', 'Hand', 'MR Delay'],inplace=True)\n",
    "\n",
    "\n",
    "# Cleaning and modifying data\n",
    "df_one = pd.get_dummies(df[\"Group\"])\n",
    "df_two = pd.concat((df_one, df), axis=1)\n",
    "df_two = df_two.drop([\"Group\"], axis=1)\n",
    "df_two = df_two.drop([\"Nondemented\"], axis=1)\n",
    "df_two = df_two.drop(['Converted'], axis=1)\n",
    "df_three = pd.get_dummies(df_two[\"M/F\"])\n",
    "df_four = pd.concat((df_three, df_two), axis=1)\n",
    "df_four = df_four.drop(['F'], axis=1)\n",
    "df_four = df_four.drop(['M/F'], axis=1)\n",
    "data = df_four.rename(columns={\"M\": \"Gender\"})\n",
    "data = data[['Gender', 'Visit', 'Age', 'EDUC', 'SES',\n",
    "       'CDR', 'eTIV', 'nWBV', 'ASF', 'Demented']]\n",
    "\n",
    "# Replacing a few missing values with dataset mean\n",
    "data['SES'] = data['SES'].fillna(np.mean(data['SES']))\n",
    "# data['MMSE'] = data['MMSE'].fillna(np.mean(data['MMSE']))\n",
    "\n",
    "data.head()"
   ]
  },
  {
   "cell_type": "code",
   "execution_count": 23,
   "metadata": {},
   "outputs": [],
   "source": [
    "from sklearn.model_selection import train_test_split, KFold\n",
    "lr = LogisticRegression()\n",
    "scaler = StandardScaler()\n",
    "\n",
    "# Features\n",
    "X = data.iloc[:,:9].to_numpy()\n",
    "# Label\n",
    "y = data.iloc[:,-1].to_numpy().reshape(-1)\n",
    "# Splitting training and validation data\n",
    "X_train, X_val, y_train, y_val = train_test_split(X, y, test_size=0.25, shuffle=True, stratify=y, random_state=0)\n"
   ]
  },
  {
   "cell_type": "code",
   "execution_count": 24,
   "metadata": {},
   "outputs": [
    {
     "name": "stdout",
     "output_type": "stream",
     "text": [
      "Training error: 0.953405017921147\n",
      "Validation error: 0.9361702127659575\n",
      "Coefficients: [[ 0.72373849 -1.03953555 -0.7837977  -0.34374014  0.44302282  4.13661757\n",
      "   0.01931309 -0.58076136  0.41982854]]\n"
     ]
    }
   ],
   "source": [
    "# Scale data with StandardScaler and fit logistic regression\n",
    "\n",
    "lr.fit(scaler.fit_transform(X_train), y_train)\n",
    "y_pred_train = lr.predict(scaler.fit_transform(X_train))\n",
    "y_pred_val = lr.predict(scaler.fit_transform(X_val))\n",
    "err_train = accuracy_score(y_train, y_pred_train)\n",
    "err_val = accuracy_score(y_val, y_pred_val)\n",
    "print(f\"Training error: {err_train}\")\n",
    "print(f\"Validation error: {err_val}\")\n",
    "\n",
    "print(f\"Coefficients: {lr.coef_}\")"
   ]
  },
  {
   "cell_type": "code",
   "execution_count": 13,
   "metadata": {},
   "outputs": [
    {
     "name": "stdout",
     "output_type": "stream",
     "text": [
      "Training error (pipeline): 0.8566308243727598\n",
      "Validation error (pipeline): 0.851063829787234\n"
     ]
    }
   ],
   "source": [
    "# Same process but with sklearn's Pipeline\n",
    "\n",
    "from sklearn.pipeline import Pipeline\n",
    "pipe = Pipeline([('scaler', StandardScaler()), ('lr', LogisticRegression())])\n",
    "pipe.fit(X_train, y_train)\n",
    "err_train_pip = pipe.score(X_train, y_train)\n",
    "err_val_pip = pipe.score(X_val, y_val)\n",
    "# Print training and validation errors\n",
    "print(f\"Training error (pipeline): {err_train_pip}\")\n",
    "print(f\"Validation error (pipeline): {err_val_pip}\")"
   ]
  },
  {
   "cell_type": "code",
   "execution_count": 14,
   "metadata": {},
   "outputs": [],
   "source": [
    "cv = KFold(n_splits=10, shuffle=True, random_state=42)\n",
    "\n",
    "training_errors = [] # store the training errors\n",
    "validation_errors = [] # store the validation errors\n",
    "\n",
    "# Iterate through the indices of train and validation (iteration through each split of 10)\n",
    "for train_index, val_index in cv.split(y):\n",
    "\n",
    "    X_train, X_val = X[train_index], X[val_index]\n",
    "    y_train, y_val = y[train_index], y[val_index]\n",
    "    \n",
    "    pipe.fit(X_train, y_train)\n",
    "    \n",
    "    err_train_pip = pipe.score(X_train, y_train)\n",
    "    err_val_pip = pipe.score(X_val, y_val)\n",
    "              \n",
    "    training_errors.append(err_train_pip)\n",
    "    validation_errors.append(err_val_pip)\n"
   ]
  },
  {
   "cell_type": "code",
   "execution_count": 15,
   "metadata": {},
   "outputs": [
    {
     "data": {
      "text/plain": [
       "[0.868421052631579,\n",
       " 0.868421052631579,\n",
       " 0.7631578947368421,\n",
       " 0.8108108108108109,\n",
       " 0.8918918918918919,\n",
       " 0.8918918918918919,\n",
       " 0.8108108108108109,\n",
       " 0.7837837837837838,\n",
       " 0.8378378378378378,\n",
       " 0.972972972972973]"
      ]
     },
     "execution_count": 15,
     "metadata": {},
     "output_type": "execute_result"
    }
   ],
   "source": [
    "validation_errors"
   ]
  },
  {
   "cell_type": "code",
   "execution_count": 16,
   "metadata": {},
   "outputs": [
    {
     "data": {
      "text/plain": [
       "[0.8537313432835821,\n",
       " 0.8507462686567164,\n",
       " 0.8656716417910447,\n",
       " 0.8571428571428571,\n",
       " 0.8482142857142857,\n",
       " 0.8482142857142857,\n",
       " 0.8601190476190477,\n",
       " 0.8571428571428571,\n",
       " 0.8541666666666666,\n",
       " 0.8452380952380952]"
      ]
     },
     "execution_count": 16,
     "metadata": {},
     "output_type": "execute_result"
    }
   ],
   "source": [
    "training_errors"
   ]
  },
  {
   "cell_type": "code",
   "execution_count": 17,
   "metadata": {},
   "outputs": [
    {
     "data": {
      "image/png": "[encoded data removed]",
      "text/plain": [
       "<Figure size 432x288 with 1 Axes>"
      ]
     },
     "metadata": {
      "needs_background": "light"
     },
     "output_type": "display_data"
    }
   ],
   "source": [
    "# Plot the distribution of the validation errors\n",
    "plt.hist(validation_errors)\n",
    "plt.title(\"Validation errors distribution\")\n",
    "plt.show()"
   ]
  },
  {
   "cell_type": "code",
   "execution_count": null,
   "metadata": {},
   "outputs": [],
   "source": [
    "# test"
   ]
  }
 ],
 "metadata": {
  "kernelspec": {
   "display_name": "Python 3",
   "language": "python",
   "name": "python3"
  },
  "language_info": {
   "codemirror_mode": {
    "name": "ipython",
    "version": 3
   },
   "file_extension": ".py",
   "mimetype": "text/x-python",
   "name": "python",
   "nbconvert_exporter": "python",
   "pygments_lexer": "ipython3",
   "version": "3.8.5"
  },
  "varInspector": {
   "cols": {
    "lenName": 16,
    "lenType": 16,
    "lenVar": 40
   },
   "kernels_config": {
    "python": {
     "delete_cmd_postfix": "",
     "delete_cmd_prefix": "del ",
     "library": "var_list.py",
     "varRefreshCmd": "print(var_dic_list())"
    },
    "r": {
     "delete_cmd_postfix": ") ",
     "delete_cmd_prefix": "rm(",
     "library": "var_list.r",
     "varRefreshCmd": "cat(var_dic_list()) "
    }
   },
   "types_to_exclude": [
    "module",
    "function",
    "builtin_function_or_method",
    "instance",
    "_Feature"
   ],
   "window_display": false
  }
 },
 "nbformat": 4,
 "nbformat_minor": 4
}
