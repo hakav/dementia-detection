{
 "cells": [
  {
   "cell_type": "code",
   "execution_count": 10,
   "metadata": {},
   "outputs": [],
   "source": [
    "import numpy as np\n",
    "import pandas as pd\n",
    "import matplotlib.pyplot as plt\n",
    "import seaborn as sns  #data visualization library\n",
    "from sklearn.linear_model import LogisticRegression\n",
    "from sklearn.metrics import accuracy_score, confusion_matrix  # evaluation metrics\n",
    "from sklearn.metrics import mean_squared_error\n",
    "from sklearn.preprocessing import PolynomialFeatures    # function to generate polynomial and interaction features\n",
    "from sklearn.linear_model import LinearRegression, HuberRegressor    # classes providing Linear Regression with ordinary squared error loss and Huber loss, respectively\n",
    "from sklearn.preprocessing import StandardScaler\n",
    "from sklearn.preprocessing import MinMaxScaler\n"
   ]
  },
  {
   "cell_type": "code",
   "execution_count": 11,
   "metadata": {
    "scrolled": true
   },
   "outputs": [],
   "source": [
    "# Cleaning and modifying data\n",
    "\n",
    "df = pd.read_csv('dementia_dataset.csv')\n",
    "df.drop(columns = ['Subject ID', 'MRI ID', 'Hand', 'MR Delay'],inplace=True)\n",
    "df.columns\n",
    "df_one = pd.get_dummies(df[\"Group\"])\n",
    "df_two = pd.concat((df_one, df), axis=1)\n",
    "df_two = df_two.drop([\"Group\"], axis=1)\n",
    "df_two = df_two.drop([\"Nondemented\"], axis=1)\n",
    "df_two = df_two.drop(['Converted'], axis=1)\n",
    "\n",
    "df_three = pd.get_dummies(df_two[\"M/F\"])\n",
    "df_four = pd.concat((df_three, df_two), axis=1)\n",
    "df_four = df_four.drop(['F'], axis=1)\n",
    "df_four = df_four.drop(['M/F'], axis=1)\n",
    "data = df_four.rename(columns={\"M\": \"Gender\"})\n",
    "data = data[['Gender', 'Visit', 'Age', 'EDUC', 'SES', 'MMSE',\n",
    "       'CDR', 'eTIV', 'nWBV', 'ASF', 'Demented']]\n",
    "data['SES'] = data['SES'].fillna(np.mean(data['SES']))\n",
    "data['MMSE'] = data['MMSE'].fillna(np.mean(data['MMSE']))"
   ]
  },
  {
   "cell_type": "code",
   "execution_count": 12,
   "metadata": {},
   "outputs": [],
   "source": [
    "from sklearn.model_selection import train_test_split\n",
    "lr = LogisticRegression()\n",
    "scaler = StandardScaler()\n",
    "X = data.iloc[:,:10].to_numpy()\n",
    "y = data.iloc[:,-1].to_numpy().reshape(-1)\n",
    "X_train, X_val, y_train, y_val = train_test_split(X, y, test_size=0.2, shuffle=True, stratify=y, random_state=0)\n"
   ]
  },
  {
   "cell_type": "code",
   "execution_count": 14,
   "metadata": {},
   "outputs": [
    {
     "name": "stdout",
     "output_type": "stream",
     "text": [
      "Training error: 0.9697986577181208\n",
      "Validation error: 0.96\n"
     ]
    }
   ],
   "source": [
    "lr.fit(scaler.fit_transform(X_train), y_train)\n",
    "y_pred_train = lr.predict(scaler.fit_transform(X_train))\n",
    "y_pred_val = lr.predict(scaler.fit_transform(X_val))\n",
    "err_train = accuracy_score(y_train, y_pred_train)\n",
    "err_val = accuracy_score(y_val, y_pred_val)\n",
    "print(f\"Training error: {err_train}\")\n",
    "print(f\"Validation error: {err_val}\")\n"
   ]
  },
  {
   "cell_type": "code",
   "execution_count": 15,
   "metadata": {},
   "outputs": [
    {
     "name": "stdout",
     "output_type": "stream",
     "text": [
      "Training error with pipeline: 0.9697986577181208\n",
      "Validation error pipeline: 0.9733333333333334\n"
     ]
    }
   ],
   "source": [
    "from sklearn.pipeline import Pipeline\n",
    "pipe = Pipeline([('scaler', StandardScaler()), ('lr', LogisticRegression())])\n",
    "pipe.fit(X_train, y_train)\n",
    "err_train_pip = pipe.score(X_train, y_train)\n",
    "err_val_pip = pipe.score(X_val, y_val)\n",
    "# Print training and validation errors\n",
    "print(f\"Training error with pipeline: {err_train_pip}\")\n",
    "print(f\"Validation error pipeline: {err_val_pip}\")"
   ]
  },
  {
   "cell_type": "code",
   "execution_count": 9,
   "metadata": {},
   "outputs": [
    {
     "data": {
      "text/plain": [
       "27.342318059299195"
      ]
     },
     "execution_count": 9,
     "metadata": {},
     "output_type": "execute_result"
    }
   ],
   "source": []
  },
  {
   "cell_type": "code",
   "execution_count": null,
   "metadata": {},
   "outputs": [],
   "source": []
  }
 ],
 "metadata": {
  "kernelspec": {
   "display_name": "Python 3",
   "language": "python",
   "name": "python3"
  },
  "language_info": {
   "codemirror_mode": {
    "name": "ipython",
    "version": 3
   },
   "file_extension": ".py",
   "mimetype": "text/x-python",
   "name": "python",
   "nbconvert_exporter": "python",
   "pygments_lexer": "ipython3",
   "version": "3.8.6"
  },
  "varInspector": {
   "cols": {
    "lenName": 16,
    "lenType": 16,
    "lenVar": 40
   },
   "kernels_config": {
    "python": {
     "delete_cmd_postfix": "",
     "delete_cmd_prefix": "del ",
     "library": "var_list.py",
     "varRefreshCmd": "print(var_dic_list())"
    },
    "r": {
     "delete_cmd_postfix": ") ",
     "delete_cmd_prefix": "rm(",
     "library": "var_list.r",
     "varRefreshCmd": "cat(var_dic_list()) "
    }
   },
   "types_to_exclude": [
    "module",
    "function",
    "builtin_function_or_method",
    "instance",
    "_Feature"
   ],
   "window_display": false
  }
 },
 "nbformat": 4,
 "nbformat_minor": 4
}
