{
 "cells": [
  {
   "cell_type": "code",
   "execution_count": 1,
   "metadata": {},
   "outputs": [],
   "source": [
    "import numpy as np\n",
    "import pandas as pd\n",
    "import matplotlib.pyplot as plt\n",
    "import seaborn as sns  #data visualization library\n",
    "from sklearn.linear_model import LogisticRegression\n",
    "from sklearn.metrics import accuracy_score, confusion_matrix  # evaluation metrics\n",
    "from sklearn.metrics import mean_squared_error\n",
    "from sklearn.preprocessing import PolynomialFeatures    # function to generate polynomial and interaction features\n",
    "from sklearn.linear_model import LinearRegression, HuberRegressor    # classes providing Linear Regression with ordinary squared error loss and Huber loss, respectively\n",
    "from sklearn.preprocessing import StandardScaler\n",
    "from sklearn.preprocessing import MinMaxScaler\n"
   ]
  },
  {
   "cell_type": "code",
   "execution_count": 2,
   "metadata": {
    "scrolled": true
   },
   "outputs": [],
   "source": [
    "df = pd.read_csv('dementia_dataset.csv')\n",
    "\n",
    "# Remove unnecessary columns\n",
    "df.drop(columns = ['Subject ID', 'MRI ID', 'Hand', 'MR Delay'],inplace=True)\n",
    "\n",
    "\n",
    "# Cleaning and modifying data\n",
    "df_one = pd.get_dummies(df[\"Group\"])\n",
    "df_two = pd.concat((df_one, df), axis=1)\n",
    "df_two = df_two.drop([\"Group\"], axis=1)\n",
    "df_two = df_two.drop([\"Nondemented\"], axis=1)\n",
    "df_two = df_two.drop(['Converted'], axis=1)\n",
    "df_three = pd.get_dummies(df_two[\"M/F\"])\n",
    "df_four = pd.concat((df_three, df_two), axis=1)\n",
    "df_four = df_four.drop(['F'], axis=1)\n",
    "df_four = df_four.drop(['M/F'], axis=1)\n",
    "data = df_four.rename(columns={\"M\": \"Gender\"})\n",
    "data = data[['Gender', 'Visit', 'Age', 'EDUC', 'SES', 'MMSE',\n",
    "       'CDR', 'eTIV', 'nWBV', 'ASF', 'Demented']]\n",
    "\n",
    "# Replacing a few missing values with dataset mean\n",
    "data['SES'] = data['SES'].fillna(np.mean(data['SES']))\n",
    "data['MMSE'] = data['MMSE'].fillna(np.mean(data['MMSE']))"
   ]
  },
  {
   "cell_type": "code",
   "execution_count": 7,
   "metadata": {},
   "outputs": [],
   "source": [
    "from sklearn.model_selection import train_test_split, KFold\n",
    "lr = LogisticRegression()\n",
    "scaler = StandardScaler()\n",
    "\n",
    "# Features\n",
    "X = data.iloc[:,:10].to_numpy()\n",
    "# Label\n",
    "y = data.iloc[:,-1].to_numpy().reshape(-1)\n",
    "# Splitting training and validation data\n",
    "X_train, X_val, y_train, y_val = train_test_split(X, y, test_size=0.25, shuffle=True, stratify=y, random_state=0)\n"
   ]
  },
  {
   "cell_type": "code",
   "execution_count": 8,
   "metadata": {},
   "outputs": [
    {
     "name": "stdout",
     "output_type": "stream",
     "text": [
      "Training error: 0.9713261648745519\n",
      "Validation error: 0.9680851063829787\n"
     ]
    }
   ],
   "source": [
    "# Scale data with StandardScaler and fit logistic regression\n",
    "\n",
    "lr.fit(scaler.fit_transform(X_train), y_train)\n",
    "y_pred_train = lr.predict(scaler.fit_transform(X_train))\n",
    "y_pred_val = lr.predict(scaler.fit_transform(X_val))\n",
    "err_train = accuracy_score(y_train, y_pred_train)\n",
    "err_val = accuracy_score(y_val, y_pred_val)\n",
    "print(f\"Training error: {err_train}\")\n",
    "print(f\"Validation error: {err_val}\")\n"
   ]
  },
  {
   "cell_type": "code",
   "execution_count": 9,
   "metadata": {},
   "outputs": [
    {
     "name": "stdout",
     "output_type": "stream",
     "text": [
      "Training error (pipeline): 0.9713261648745519\n",
      "Validation error (pipeline): 0.9787234042553191\n"
     ]
    }
   ],
   "source": [
    "# Same process but with sklearn's Pipeline\n",
    "\n",
    "from sklearn.pipeline import Pipeline\n",
    "pipe = Pipeline([('scaler', StandardScaler()), ('lr', LogisticRegression())])\n",
    "pipe.fit(X_train, y_train)\n",
    "err_train_pip = pipe.score(X_train, y_train)\n",
    "err_val_pip = pipe.score(X_val, y_val)\n",
    "# Print training and validation errors\n",
    "print(f\"Training error (pipeline): {err_train_pip}\")\n",
    "print(f\"Validation error (pipeline): {err_val_pip}\")"
   ]
  },
  {
   "cell_type": "code",
   "execution_count": 10,
   "metadata": {},
   "outputs": [],
   "source": [
    "cv = KFold(n_splits=10, shuffle=True, random_state=42)\n",
    "\n",
    "training_errors = [] # store the training errors\n",
    "validation_errors = [] # store the validation errors\n",
    "\n",
    "# Iterate through the indices of train and validation (iteration through each split of 10)\n",
    "for train_index, val_index in cv.split(y):\n",
    "\n",
    "    X_train, X_val = X[train_index], X[val_index]\n",
    "    y_train, y_val = y[train_index], y[val_index]\n",
    "    \n",
    "    pipe.fit(X_train, y_train)\n",
    "    \n",
    "    err_train_pip = pipe.score(X_train, y_train)\n",
    "    err_val_pip = pipe.score(X_val, y_val)\n",
    "              \n",
    "    training_errors.append(err_train_pip)\n",
    "    validation_errors.append(err_val_pip)\n"
   ]
  },
  {
   "cell_type": "code",
   "execution_count": 11,
   "metadata": {},
   "outputs": [
    {
     "data": {
      "text/plain": [
       "[1.0,\n",
       " 0.9473684210526315,\n",
       " 0.9210526315789473,\n",
       " 0.972972972972973,\n",
       " 0.918918918918919,\n",
       " 0.972972972972973,\n",
       " 0.972972972972973,\n",
       " 0.972972972972973,\n",
       " 0.9459459459459459,\n",
       " 1.0]"
      ]
     },
     "execution_count": 11,
     "metadata": {},
     "output_type": "execute_result"
    }
   ],
   "source": [
    "validation_errors"
   ]
  },
  {
   "cell_type": "code",
   "execution_count": 12,
   "metadata": {},
   "outputs": [
    {
     "data": {
      "text/plain": [
       "[0.9701492537313433,\n",
       " 0.9701492537313433,\n",
       " 0.9761194029850746,\n",
       " 0.9672619047619048,\n",
       " 0.9761904761904762,\n",
       " 0.9672619047619048,\n",
       " 0.9702380952380952,\n",
       " 0.9732142857142857,\n",
       " 0.9732142857142857,\n",
       " 0.9672619047619048]"
      ]
     },
     "execution_count": 12,
     "metadata": {},
     "output_type": "execute_result"
    }
   ],
   "source": [
    "training_errors"
   ]
  },
  {
   "cell_type": "code",
   "execution_count": 13,
   "metadata": {},
   "outputs": [
    {
     "data": {
      "image/png": "[encoded data removed]",
      "text/plain": [
       "<Figure size 432x288 with 1 Axes>"
      ]
     },
     "metadata": {
      "needs_background": "light"
     },
     "output_type": "display_data"
    }
   ],
   "source": [
    "# Plot the distribution of the validation errors\n",
    "plt.hist(validation_errors)\n",
    "plt.title(\"Validation errors distribution\")\n",
    "plt.show()"
   ]
  },
  {
   "cell_type": "code",
   "execution_count": null,
   "metadata": {},
   "outputs": [],
   "source": [
    "# test"
   ]
  }
 ],
 "metadata": {
  "kernelspec": {
   "display_name": "Python 3",
   "language": "python",
   "name": "python3"
  },
  "language_info": {
   "codemirror_mode": {
    "name": "ipython",
    "version": 3
   },
   "file_extension": ".py",
   "mimetype": "text/x-python",
   "name": "python",
   "nbconvert_exporter": "python",
   "pygments_lexer": "ipython3",
   "version": "3.8.5"
  },
  "varInspector": {
   "cols": {
    "lenName": 16,
    "lenType": 16,
    "lenVar": 40
   },
   "kernels_config": {
    "python": {
     "delete_cmd_postfix": "",
     "delete_cmd_prefix": "del ",
     "library": "var_list.py",
     "varRefreshCmd": "print(var_dic_list())"
    },
    "r": {
     "delete_cmd_postfix": ") ",
     "delete_cmd_prefix": "rm(",
     "library": "var_list.r",
     "varRefreshCmd": "cat(var_dic_list()) "
    }
   },
   "types_to_exclude": [
    "module",
    "function",
    "builtin_function_or_method",
    "instance",
    "_Feature"
   ],
   "window_display": false
  }
 },
 "nbformat": 4,
 "nbformat_minor": 4
}
